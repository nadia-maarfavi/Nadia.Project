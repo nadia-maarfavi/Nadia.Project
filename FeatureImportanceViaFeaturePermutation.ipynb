{
  "nbformat": 4,
  "nbformat_minor": 0,
  "metadata": {
    "colab": {
      "provenance": [],
      "mount_file_id": "1Tq1GVX3JSFiXWPUAcFFY5XRF8W0mwR5o",
      "authorship_tag": "ABX9TyOlCE+LgT8XQNkkXuaaC3CE"
    },
    "kernelspec": {
      "name": "python3",
      "display_name": "Python 3"
    },
    "language_info": {
      "name": "python"
    }
  },
  "cells": [
    {
      "cell_type": "code",
      "source": [
        "# Seed value\n",
        "# Apparently you may use different seed values at each stage\n",
        "seed_value= 1\n",
        "\n",
        "# 1. Set the `PYTHONHASHSEED` environment variable at a fixed value\n",
        "import os\n",
        "os.environ['PYTHONHASHSEED']=str(seed_value)\n",
        "\n",
        "# 2. Set the `python` built-in pseudo-random generator at a fixed value\n",
        "import random\n",
        "random.seed(seed_value)\n",
        "\n",
        "# 3. Set the `numpy` pseudo-random generator at a fixed value\n",
        "import numpy as np\n",
        "np.random.seed(seed_value)\n"
      ],
      "metadata": {
        "id": "PSMd-TIEVRJP"
      },
      "execution_count": null,
      "outputs": []
    },
    {
      "cell_type": "code",
      "source": [
        "import pandas as pd\n",
        "import numpy as np\n",
        "from sklearn.model_selection import KFold\n",
        "\n",
        "from sklearn.model_selection import cross_val_score, KFold,  train_test_split, cross_validate\n",
        "from sklearn.preprocessing import StandardScaler, MinMaxScaler, MaxAbsScaler\n",
        "\n",
        "from numpy import mean, absolute, std\n",
        "from sklearn.ensemble import RandomForestRegressor, ExtraTreesRegressor, GradientBoostingRegressor, BaggingRegressor, HistGradientBoostingRegressor\n",
        "import xgboost as xgb\n",
        "from lightgbm import LGBMRegressor\n",
        "\n",
        "from sklearn.metrics import mean_squared_error,r2_score, mean_absolute_error\n",
        "from math import sqrt\n"
      ],
      "metadata": {
        "id": "asKC43lJVSZV"
      },
      "execution_count": null,
      "outputs": []
    },
    {
      "cell_type": "code",
      "source": [
        "df = pd.read_csv(\".....\")\n",
        "df.info()"
      ],
      "metadata": {
        "id": "0OD6716nVWjc"
      },
      "execution_count": null,
      "outputs": []
    },
    {
      "cell_type": "code",
      "source": [
        "from sklearn.utils import shuffle\n",
        "df = shuffle(df)"
      ],
      "metadata": {
        "id": "NAgrzyvUsXDc"
      },
      "execution_count": null,
      "outputs": []
    },
    {
      "cell_type": "code",
      "source": [
        "df['Scores'] = np.log1p(df['Scores'])\n",
        "df['ProductionBudget'] = np.log1p(df['ProductionBudget'])\n",
        "df['OpeningTheater'] = np.log1p(df['OpeningTheater'])\n",
        "df['Difference'] = np.log1p(df['Difference'])\n",
        "df['Duration'] = np.log1p(df['Duration'])\n",
        "df['FaceNo'] = np.log1p(df['FaceNo'])\n",
        "df['Female'] = np.log1p(df['Female'])\n",
        "df['Male'] = np.log1p(df['Male'])\n",
        "df['AverageAge'] = np.log1p(df['AverageAge'])\n",
        "df['AvgFaceSize'] =np.log1p(df['AvgFaceSize'])"
      ],
      "metadata": {
        "id": "m2QYhPCCVbtn"
      },
      "execution_count": null,
      "outputs": []
    },
    {
      "cell_type": "code",
      "source": [
        "#Control + trailer content\n",
        "train_features = ['OpeningTheater','ProductionBudget','Scores', 'Follows','Action','Adventure','Biography','Comedy',\n",
        "'Crime','Documentary','Drama','Horror','Thriller',  'topStudio', 'PG-13','R','Not Rated','PG','NC-17','G', 'topMeters','topStars',\n",
        "'AwardStars',\n",
        "'Duration','Difference','RatioFaceNo','RatioMale','RatioFemale', 'FaceNo','Female','Male', 'RatioSad','RatioHappy', 'RatioFear',  'RatioAngry',\n",
        "'RatioSurprise',  'RatioDisgust',  'RatioNeutral','RatioAsian', 'RatioIndian', 'RatioBlack', 'RatioWhite', 'RatioMiddle','RatioHispanic',\n",
        "                    'AvgFaceSize', 'RatioFaceCoverage', 'AverageAge']"
      ],
      "metadata": {
        "id": "sBzNejUcVY8T"
      },
      "execution_count": null,
      "outputs": []
    },
    {
      "cell_type": "code",
      "source": [
        "X = df[train_features]\n",
        "y = df['OpeningGross'].values\n",
        "y = np.log1p(y)\n",
        "print(X.shape)\n",
        "print(y.shape)"
      ],
      "metadata": {
        "id": "zSR1w00LVhF5"
      },
      "execution_count": null,
      "outputs": []
    },
    {
      "cell_type": "code",
      "source": [
        "X_train, X_test, y_train, y_test = train_test_split(X, y, test_size=0.20, random_state=52)\n"
      ],
      "metadata": {
        "id": "wfDCAHXEVit8"
      },
      "execution_count": null,
      "outputs": []
    },
    {
      "cell_type": "code",
      "source": [
        "# Feature Importance \n",
        "\n",
        "from sklearn.inspection import permutation_importance\n",
        "\n",
        "BestModel = BestModel(Best.Parameters)\n",
        "BestModel.fit(X_train, y_train)\n",
        "\n",
        "result = permutation_importance(\n",
        "    estimator=BestModel,\n",
        "    X=X_train,\n",
        "    y=y_train,\n",
        "    scoring='r2',\n",
        "    n_repeats = 10,\n",
        "    random_state=1\n",
        ")\n",
        "\n",
        "indices = np.argsort(result['importances_mean'])[::-1]\n",
        "\n",
        "plt.figure(figsize=(15,5))\n",
        "plt.title(\"Best model feature importance via permutation importance\")\n",
        "plt.bar(\n",
        "    range(X.shape[1]),\n",
        "    result['importances_mean'][indices],\n",
        "    yerr=result['importances_std'][indices]\n",
        ")\n",
        "\n",
        "plt.xticks(range(X.shape[1]), X.columns[indices], rotation=90)\n",
        "plt.xlim([-1, X.shape[1]])\n",
        "plt.ylim([0, 0.2])\n",
        "\n",
        "plt.tight_layout()\n",
        "plt.savefig('3.pdf')\n",
        "plt.show()"
      ],
      "metadata": {
        "id": "GMfZOBBmvgLn"
      },
      "execution_count": null,
      "outputs": []
    },
    {
      "cell_type": "code",
      "source": [
        "for i in result.importances_mean.argsort()[::-1]:\n",
        "        print(f\"{X.columns[i]:<8}\"\n",
        "              f\"{result.importances_mean[i]:.5f}\"\n",
        "              f\" +/- {result.importances_std[i]:.5f}\")"
      ],
      "metadata": {
        "id": "ERTsd8uNvm0Q"
      },
      "execution_count": null,
      "outputs": []
    }
  ]
}